{
 "cells": [
  {
   "cell_type": "code",
   "execution_count": 1,
   "metadata": {},
   "outputs": [],
   "source": [
    "import time, math, random, bisect, copy\n",
    "import gym\n",
    "import numpy as np\n",
    "import matplotlib.pyplot as plt\n",
    "from scipy.signal import convolve\n",
    "from gym import wrappers\n",
    "import pickle\n",
    "import car_racing"
   ]
  },
  {
   "cell_type": "code",
   "execution_count": 2,
   "metadata": {},
   "outputs": [],
   "source": [
    "class NeuralNet : \n",
    "    def __init__(self, nodeCount):     \n",
    "        self.fitness = 0.0\n",
    "        self.nodeCount = nodeCount\n",
    "        self.weights = []\n",
    "        self.biases = []\n",
    "        for i in range(len(nodeCount) - 1):\n",
    "            self.weights.append( np.random.uniform(low=-1, high=1, size=(nodeCount[i], nodeCount[i+1])))\n",
    "            self.biases.append( np.random.uniform(low=-1, high=1, size=(nodeCount[i+1])))\n",
    "\n",
    "    def printWeightsandBiases(self):\n",
    "        \n",
    "        print(\"--------------------------------\")\n",
    "        print(\"Weights :\\n[\", end=\"\")\n",
    "        for i in range(len(self.weights)):\n",
    "            print(\"\\n [ \", end=\"\")\n",
    "            for j in range(len(self.weights[i])):\n",
    "                if j!=0:\n",
    "                    print(\"\\n   \", end=\"\")\n",
    "                print(\"[\", end=\"\")\n",
    "                for k in range(len(self.weights[i][j])):\n",
    "                    print(\" %5.2f,\" % (self.weights[i][j][k]), end=\"\")\n",
    "                print(\"\\b],\", end=\"\")\n",
    "            print(\"\\b ],\")\n",
    "        print(\"\\n]\")\n",
    "\n",
    "        print(\"\\nBiases :\\n[\", end=\"\")\n",
    "        for i in range(len(self.biases)):\n",
    "            print(\"\\n [ \", end=\"\")\n",
    "            for j in range(len(self.biases[i])):\n",
    "                    print(\" %5.2f,\" % (self.biases[i][j]), end=\"\")\n",
    "            print(\"\\b],\", end=\"\")\n",
    "        print(\"\\b \\n]\\n--------------------------------\\n\")\n",
    "    \n",
    "    def getOutput(self, input):\n",
    "        output = conv(input)\n",
    "        for i in range(len(self.nodeCount)-1):\n",
    "            output = np.matmul(output, self.weights[i]) + self.biases[i]\n",
    "        return sigmoid(output) * np.array([2., 1., 1.]) + np.array([-1., 0., 0.])\n",
    "    \n",
    "    '''\n",
    "    def getOutput(self, input):\n",
    "        output = conv(input)\n",
    "        for i in range(len(self.nodeCount)-1):\n",
    "            output = np.matmul(output, self.weights[i]) + self.biases[i]\n",
    "        return np.argmax(output)\n",
    "    '''"
   ]
  },
  {
   "cell_type": "code",
   "execution_count": 3,
   "metadata": {},
   "outputs": [],
   "source": [
    "class Population :\n",
    "    def __init__(self, populationCount, mutationRate, nodeCount):\n",
    "        self.nodeCount = nodeCount\n",
    "        self.popCount = populationCount\n",
    "        self.m_rate = mutationRate\n",
    "        self.population = [ NeuralNet(nodeCount) for i in range(populationCount)]\n",
    "\n",
    "\n",
    "    def createChild(self, nn1, nn2):\n",
    "        \n",
    "        child = NeuralNet(self.nodeCount)\n",
    "        for i in range(len(child.weights)):\n",
    "            s = child.weights[i].shape\n",
    "            child.weights[i] = np.where(np.random.rand(s[0], s[1]) > self.m_rate, \n",
    "                                        np.where(np.random.rand(s[0], s[1]) < nn1.fitness / (nn1.fitness+nn2.fitness), nn1.weights[i], nn2.weights[i]), \n",
    "                                        child.weights[i])\n",
    "            \n",
    "        for i in range(len(child.biases)):\n",
    "            s = child.biases[i].shape\n",
    "            child.biases[i] = np.where(np.random.rand(s[0]) > self.m_rate, \n",
    "                                       np.where(np.random.rand(s[0]) < nn1.fitness / (nn1.fitness+nn2.fitness), nn1.biases[i], nn2.biases[i]), \n",
    "                                       child.biases[i])\n",
    "            \n",
    "        return child\n",
    "\n",
    "\n",
    "    def createNewGeneration(self):    \n",
    "\n",
    "        nextGen = []\n",
    "        self.population.sort(key=lambda x: x.fitness, reverse=True)\n",
    "        for i in range(self.popCount):\n",
    "            if random.random() < float(self.popCount-i)/self.popCount:\n",
    "                nextGen.append(copy.deepcopy(self.population[i]));\n",
    "\n",
    "        fitnessSum = [0]\n",
    "        minFit = min([i.fitness for i in nextGen])\n",
    "        for i in range(len(nextGen)):\n",
    "            fitnessSum.append(fitnessSum[i]+(nextGen[i].fitness-minFit)**4)\n",
    "        \n",
    "\n",
    "        while(len(nextGen) < self.popCount):\n",
    "            r1 = random.uniform(0, fitnessSum[-1] )\n",
    "            r2 = random.uniform(0, fitnessSum[-1] )\n",
    "            nn1 = nextGen[bisect.bisect_right(fitnessSum, r1)-1]\n",
    "            nn2 = nextGen[bisect.bisect_right(fitnessSum, r2)-1]\n",
    "            nextGen.append( self.createChild(nn1, nn2) )\n",
    "        self.population.clear()\n",
    "        self.population = nextGen"
   ]
  },
  {
   "cell_type": "code",
   "execution_count": 4,
   "metadata": {},
   "outputs": [],
   "source": [
    "def sigmoid(x):\n",
    "    return 1.0/(1.0 + np.exp(-x))\n",
    "\n",
    "def replayBestBots(bestNeuralNets, steps, sleep):  \n",
    "    for i in range(len(bestNeuralNets)):\n",
    "        if i%steps == 0 :\n",
    "            env.seed(2)\n",
    "            observation = env.reset()\n",
    "            print(\"Generation %3d had a best fitness of %4d\" % (i, bestNeuralNets[i].fitness))\n",
    "            for step in range(MAX_STEPS):\n",
    "                env.render()\n",
    "                #time.sleep(sleep)\n",
    "                action = bestNeuralNets[i].getOutput(observation)\n",
    "                observation, reward, done, info = env.step(action)\n",
    "                if done:\n",
    "                    env.seed(2)\n",
    "                    observation = env.reset()\n",
    "                    break\n",
    "            print(\"Steps taken =\", step)"
   ]
  },
  {
   "cell_type": "code",
   "execution_count": 5,
   "metadata": {},
   "outputs": [],
   "source": [
    "def pool(image, n, measure):\n",
    "    assert(image.ndim == 3)\n",
    "    image_list = []\n",
    "    M, N = image[...,0].shape\n",
    "    K = L = n\n",
    "\n",
    "    MK = M // K\n",
    "    NL = N // L\n",
    "\n",
    "    for i in range(3):\n",
    "        if measure == 'max':\n",
    "            image_ = image[...,i][:MK*K, :NL*L].reshape(MK, K, NL, L).max(axis=(1, 3))\n",
    "        if measure == 'median':\n",
    "            image_ = np.median(image[...,i][:MK*K, :NL*L].reshape(MK, K, NL, L), axis=(1, 3))\n",
    "        image_list += [image_.reshape(image_.shape[0], image_.shape[1], 1)]\n",
    "        \n",
    "    return np.concatenate(image_list, axis=2).astype('uint8')"
   ]
  },
  {
   "cell_type": "code",
   "execution_count": 6,
   "metadata": {},
   "outputs": [],
   "source": [
    "COLOR_TO_BW = np.array([[[0.114,0.587,0.299]]])"
   ]
  },
  {
   "cell_type": "code",
   "execution_count": 7,
   "metadata": {},
   "outputs": [],
   "source": [
    "def conv(img):\n",
    "    img2 = pool(img, 10, 'median')\n",
    "    new_img = convolve(COLOR_TO_BW, img2, mode='valid').reshape(img2.shape[0],img2.shape[1])\n",
    "    new_img = np.where(new_img > 150, new_img, 0)\n",
    "    new_img = np.where(new_img < 151, new_img, 256)\n",
    "    #new_img[:8,].shape\n",
    "    #plt.imshow(new_img[:8,], cmap=plt.cm.Greys_r)\n",
    "    return new_img[:8,].reshape(-1,)"
   ]
  },
  {
   "cell_type": "code",
   "execution_count": 8,
   "metadata": {
    "scrolled": false
   },
   "outputs": [
    {
     "name": "stdout",
     "output_type": "stream",
     "text": [
      "\n",
      "Observation\n",
      "--------------------------------\n",
      "Shape : 72  | High : [256. 256. 256. 256. 256. 256. 256. 256. 256. 256. 256. 256. 256. 256.\n",
      " 256. 256. 256. 256. 256. 256. 256. 256. 256. 256. 256. 256. 256. 256.\n",
      " 256. 256. 256. 256. 256. 256. 256. 256. 256. 256. 256. 256. 256. 256.\n",
      " 256. 256. 256. 256. 256. 256. 256. 256. 256. 256. 256. 256. 256. 256.\n",
      " 256. 256. 256. 256. 256. 256. 256. 256. 256. 256. 256. 256. 256. 256.\n",
      " 256. 256.]  | Low : [0. 0. 0. 0. 0. 0. 0. 0. 0. 0. 0. 0. 0. 0. 0. 0. 0. 0. 0. 0. 0. 0. 0. 0.\n",
      " 0. 0. 0. 0. 0. 0. 0. 0. 0. 0. 0. 0. 0. 0. 0. 0. 0. 0. 0. 0. 0. 0. 0. 0.\n",
      " 0. 0. 0. 0. 0. 0. 0. 0. 0. 0. 0. 0. 0. 0. 0. 0. 0. 0. 0. 0. 0. 0. 0. 0.]\n",
      "\n",
      "Action\n",
      "--------------------------------\n",
      "Shape : 3  | High : 3  | Low : 0 \n",
      "\n"
     ]
    },
    {
     "name": "stderr",
     "output_type": "stream",
     "text": [
      "/usr/lib/python3/dist-packages/ipykernel_launcher.py:2: RuntimeWarning: overflow encountered in exp\n",
      "  \n"
     ]
    },
    {
     "name": "stdout",
     "output_type": "stream",
     "text": [
      "Generation :   1 |  Avg Fitness :   -45  |  Max Fitness :    -1  \n",
      "Generation :   2 |  Avg Fitness :   -35  |  Max Fitness :    49  \n",
      "Generation :   3 |  Avg Fitness :   -24  |  Max Fitness :    88  \n",
      "Generation :   4 |  Avg Fitness :   -22  |  Max Fitness :    83  \n",
      "Generation :   5 |  Avg Fitness :   -18  |  Max Fitness :    90  \n",
      "Generation :   6 |  Avg Fitness :   -17  |  Max Fitness :   121  \n",
      "Generation :   7 |  Avg Fitness :   -13  |  Max Fitness :   185  \n",
      "Generation :   8 |  Avg Fitness :   -10  |  Max Fitness :   230  \n",
      "Generation :   9 |  Avg Fitness :     5  |  Max Fitness :   607  \n",
      "Generation :  10 |  Avg Fitness :     0  |  Max Fitness :   409  \n",
      "Generation :  11 |  Avg Fitness :    14  |  Max Fitness :   607  \n",
      "Generation :  12 |  Avg Fitness :     7  |  Max Fitness :   607  \n",
      "Generation :  13 |  Avg Fitness :     7  |  Max Fitness :   579  \n",
      "Generation :  14 |  Avg Fitness :    -4  |  Max Fitness :   297  \n",
      "Generation :  15 |  Avg Fitness :     2  |  Max Fitness :   297  \n",
      "Generation :  16 |  Avg Fitness :     4  |  Max Fitness :   244  \n",
      "Generation :  17 |  Avg Fitness :    -3  |  Max Fitness :   238  \n",
      "Generation :  18 |  Avg Fitness :    -6  |  Max Fitness :   268  \n",
      "Generation :  19 |  Avg Fitness :    -3  |  Max Fitness :   301  \n",
      "Generation :  20 |  Avg Fitness :    10  |  Max Fitness :   652  \n",
      "Generation :  21 |  Avg Fitness :    16  |  Max Fitness :   519  \n",
      "Generation :  22 |  Avg Fitness :    18  |  Max Fitness :   541  \n",
      "Generation :  23 |  Avg Fitness :    26  |  Max Fitness :   519  \n",
      "Generation :  24 |  Avg Fitness :    53  |  Max Fitness :   601  \n",
      "Generation :  25 |  Avg Fitness :    95  |  Max Fitness :   646  \n",
      "Generation :  26 |  Avg Fitness :   112  |  Max Fitness :   656  \n",
      "Generation :  27 |  Avg Fitness :   113  |  Max Fitness :   656  \n",
      "Generation :  28 |  Avg Fitness :   131  |  Max Fitness :   775  \n",
      "Generation :  29 |  Avg Fitness :   101  |  Max Fitness :   775  \n",
      "Generation :  30 |  Avg Fitness :   150  |  Max Fitness :   775  \n",
      "Generation :  31 |  Avg Fitness :   130  |  Max Fitness :   775  \n",
      "Generation :  32 |  Avg Fitness :   126  |  Max Fitness :   796  \n",
      "Generation :  33 |  Avg Fitness :   150  |  Max Fitness :   814  \n",
      "Generation :  34 |  Avg Fitness :   177  |  Max Fitness :   821  \n",
      "Generation :  35 |  Avg Fitness :   207  |  Max Fitness :   821  \n",
      "Generation :  36 |  Avg Fitness :   168  |  Max Fitness :   779  \n",
      "Generation :  37 |  Avg Fitness :   194  |  Max Fitness :   821  \n",
      "Generation :  38 |  Avg Fitness :   214  |  Max Fitness :   821  \n",
      "Generation :  39 |  Avg Fitness :   230  |  Max Fitness :   811  \n",
      "Generation :  40 |  Avg Fitness :   299  |  Max Fitness :   814  \n",
      "Generation :  41 |  Avg Fitness :   269  |  Max Fitness :   807  \n",
      "Generation :  42 |  Avg Fitness :   272  |  Max Fitness :   814  \n",
      "Generation :  43 |  Avg Fitness :   259  |  Max Fitness :   825  \n",
      "Generation :  44 |  Avg Fitness :   229  |  Max Fitness :   796  \n",
      "Generation :  45 |  Avg Fitness :   261  |  Max Fitness :   825  \n",
      "Generation :  46 |  Avg Fitness :   246  |  Max Fitness :   825  \n",
      "Generation :  47 |  Avg Fitness :   250  |  Max Fitness :   796  \n",
      "Generation :  48 |  Avg Fitness :   264  |  Max Fitness :   796  \n",
      "Generation :  49 |  Avg Fitness :   249  |  Max Fitness :   825  \n",
      "Generation :  50 |  Avg Fitness :   241  |  Max Fitness :   807  \n",
      "Generation :  51 |  Avg Fitness :   247  |  Max Fitness :   807  \n"
     ]
    },
    {
     "ename": "KeyboardInterrupt",
     "evalue": "",
     "output_type": "error",
     "traceback": [
      "\u001b[0;31m---------------------------------------------------------------------------\u001b[0m",
      "\u001b[0;31mKeyboardInterrupt\u001b[0m                         Traceback (most recent call last)",
      "\u001b[0;32m<ipython-input-8-0d7ee49a1b45>\u001b[0m in \u001b[0;36m<module>\u001b[0;34m()\u001b[0m\n\u001b[1;32m     41\u001b[0m             \u001b[0;31m#env.render()\u001b[0m\u001b[0;34m\u001b[0m\u001b[0;34m\u001b[0m\u001b[0;34m\u001b[0m\u001b[0m\n\u001b[1;32m     42\u001b[0m             \u001b[0maction\u001b[0m \u001b[0;34m=\u001b[0m \u001b[0mnn\u001b[0m\u001b[0;34m.\u001b[0m\u001b[0mgetOutput\u001b[0m\u001b[0;34m(\u001b[0m\u001b[0mobservation\u001b[0m\u001b[0;34m)\u001b[0m\u001b[0;34m\u001b[0m\u001b[0;34m\u001b[0m\u001b[0m\n\u001b[0;32m---> 43\u001b[0;31m             \u001b[0mobservation\u001b[0m\u001b[0;34m,\u001b[0m \u001b[0mreward\u001b[0m\u001b[0;34m,\u001b[0m \u001b[0mdone\u001b[0m\u001b[0;34m,\u001b[0m \u001b[0minfo\u001b[0m \u001b[0;34m=\u001b[0m \u001b[0menv\u001b[0m\u001b[0;34m.\u001b[0m\u001b[0mstep\u001b[0m\u001b[0;34m(\u001b[0m\u001b[0maction\u001b[0m\u001b[0;34m)\u001b[0m\u001b[0;34m\u001b[0m\u001b[0;34m\u001b[0m\u001b[0m\n\u001b[0m\u001b[1;32m     44\u001b[0m \u001b[0;34m\u001b[0m\u001b[0m\n\u001b[1;32m     45\u001b[0m             \u001b[0mtotalReward\u001b[0m \u001b[0;34m+=\u001b[0m \u001b[0mreward\u001b[0m\u001b[0;34m\u001b[0m\u001b[0;34m\u001b[0m\u001b[0m\n",
      "\u001b[0;32m/home/fox/Documents/Thesis/Car/Car gen/car_racing.py\u001b[0m in \u001b[0;36mstep\u001b[0;34m(self, action)\u001b[0m\n\u001b[1;32m    306\u001b[0m         \u001b[0mself\u001b[0m\u001b[0;34m.\u001b[0m\u001b[0mt\u001b[0m \u001b[0;34m+=\u001b[0m \u001b[0;36m1.0\u001b[0m\u001b[0;34m/\u001b[0m\u001b[0mFPS\u001b[0m\u001b[0;34m\u001b[0m\u001b[0;34m\u001b[0m\u001b[0m\n\u001b[1;32m    307\u001b[0m \u001b[0;34m\u001b[0m\u001b[0m\n\u001b[0;32m--> 308\u001b[0;31m         \u001b[0mself\u001b[0m\u001b[0;34m.\u001b[0m\u001b[0mstate\u001b[0m \u001b[0;34m=\u001b[0m \u001b[0mself\u001b[0m\u001b[0;34m.\u001b[0m\u001b[0mrender\u001b[0m\u001b[0;34m(\u001b[0m\u001b[0;34m\"state_pixels\"\u001b[0m\u001b[0;34m)\u001b[0m\u001b[0;34m\u001b[0m\u001b[0;34m\u001b[0m\u001b[0m\n\u001b[0m\u001b[1;32m    309\u001b[0m \u001b[0;34m\u001b[0m\u001b[0m\n\u001b[1;32m    310\u001b[0m         \u001b[0mstep_reward\u001b[0m \u001b[0;34m=\u001b[0m \u001b[0;36m0\u001b[0m\u001b[0;34m\u001b[0m\u001b[0;34m\u001b[0m\u001b[0m\n",
      "\u001b[0;32m/home/fox/Documents/Thesis/Car/Car gen/car_racing.py\u001b[0m in \u001b[0;36mrender\u001b[0;34m(self, mode)\u001b[0m\n\u001b[1;32m    390\u001b[0m         \u001b[0mself\u001b[0m\u001b[0;34m.\u001b[0m\u001b[0mviewer\u001b[0m\u001b[0;34m.\u001b[0m\u001b[0monetime_geoms\u001b[0m \u001b[0;34m=\u001b[0m \u001b[0;34m[\u001b[0m\u001b[0;34m]\u001b[0m\u001b[0;34m\u001b[0m\u001b[0;34m\u001b[0m\u001b[0m\n\u001b[1;32m    391\u001b[0m         \u001b[0mt\u001b[0m\u001b[0;34m.\u001b[0m\u001b[0mdisable\u001b[0m\u001b[0;34m(\u001b[0m\u001b[0;34m)\u001b[0m\u001b[0;34m\u001b[0m\u001b[0;34m\u001b[0m\u001b[0m\n\u001b[0;32m--> 392\u001b[0;31m         \u001b[0mself\u001b[0m\u001b[0;34m.\u001b[0m\u001b[0mrender_indicators\u001b[0m\u001b[0;34m(\u001b[0m\u001b[0mWINDOW_W\u001b[0m\u001b[0;34m,\u001b[0m \u001b[0mWINDOW_H\u001b[0m\u001b[0;34m)\u001b[0m\u001b[0;34m\u001b[0m\u001b[0;34m\u001b[0m\u001b[0m\n\u001b[0m\u001b[1;32m    393\u001b[0m \u001b[0;34m\u001b[0m\u001b[0m\n\u001b[1;32m    394\u001b[0m         \u001b[0;32mif\u001b[0m \u001b[0mmode\u001b[0m \u001b[0;34m==\u001b[0m \u001b[0;34m'human'\u001b[0m\u001b[0;34m:\u001b[0m\u001b[0;34m\u001b[0m\u001b[0;34m\u001b[0m\u001b[0m\n",
      "\u001b[0;32m/home/fox/Documents/Thesis/Car/Car gen/car_racing.py\u001b[0m in \u001b[0;36mrender_indicators\u001b[0;34m(self, W, H)\u001b[0m\n\u001b[1;32m    460\u001b[0m         \u001b[0mgl\u001b[0m\u001b[0;34m.\u001b[0m\u001b[0mglEnd\u001b[0m\u001b[0;34m(\u001b[0m\u001b[0;34m)\u001b[0m\u001b[0;34m\u001b[0m\u001b[0;34m\u001b[0m\u001b[0m\n\u001b[1;32m    461\u001b[0m         \u001b[0mself\u001b[0m\u001b[0;34m.\u001b[0m\u001b[0mscore_label\u001b[0m\u001b[0;34m.\u001b[0m\u001b[0mtext\u001b[0m \u001b[0;34m=\u001b[0m \u001b[0;34m\"%04i\"\u001b[0m \u001b[0;34m%\u001b[0m \u001b[0mself\u001b[0m\u001b[0;34m.\u001b[0m\u001b[0mreward\u001b[0m\u001b[0;34m\u001b[0m\u001b[0;34m\u001b[0m\u001b[0m\n\u001b[0;32m--> 462\u001b[0;31m         \u001b[0mself\u001b[0m\u001b[0;34m.\u001b[0m\u001b[0mscore_label\u001b[0m\u001b[0;34m.\u001b[0m\u001b[0mdraw\u001b[0m\u001b[0;34m(\u001b[0m\u001b[0;34m)\u001b[0m\u001b[0;34m\u001b[0m\u001b[0;34m\u001b[0m\u001b[0m\n\u001b[0m\u001b[1;32m    463\u001b[0m \u001b[0;34m\u001b[0m\u001b[0m\n\u001b[1;32m    464\u001b[0m \u001b[0;34m\u001b[0m\u001b[0m\n",
      "\u001b[0;32m/home/fox/.local/lib/python3.6/site-packages/pyglet/text/layout.py\u001b[0m in \u001b[0;36mdraw\u001b[0;34m(self)\u001b[0m\n\u001b[1;32m    895\u001b[0m         \"\"\"\n\u001b[1;32m    896\u001b[0m         \u001b[0;32mif\u001b[0m \u001b[0mself\u001b[0m\u001b[0;34m.\u001b[0m\u001b[0m_own_batch\u001b[0m\u001b[0;34m:\u001b[0m\u001b[0;34m\u001b[0m\u001b[0;34m\u001b[0m\u001b[0m\n\u001b[0;32m--> 897\u001b[0;31m             \u001b[0mself\u001b[0m\u001b[0;34m.\u001b[0m\u001b[0m_batch\u001b[0m\u001b[0;34m.\u001b[0m\u001b[0mdraw\u001b[0m\u001b[0;34m(\u001b[0m\u001b[0;34m)\u001b[0m\u001b[0;34m\u001b[0m\u001b[0;34m\u001b[0m\u001b[0m\n\u001b[0m\u001b[1;32m    898\u001b[0m         \u001b[0;32melse\u001b[0m\u001b[0;34m:\u001b[0m\u001b[0;34m\u001b[0m\u001b[0;34m\u001b[0m\u001b[0m\n\u001b[1;32m    899\u001b[0m             \u001b[0mself\u001b[0m\u001b[0;34m.\u001b[0m\u001b[0m_batch\u001b[0m\u001b[0;34m.\u001b[0m\u001b[0mdraw_subset\u001b[0m\u001b[0;34m(\u001b[0m\u001b[0mself\u001b[0m\u001b[0;34m.\u001b[0m\u001b[0m_vertex_lists\u001b[0m\u001b[0;34m)\u001b[0m\u001b[0;34m\u001b[0m\u001b[0;34m\u001b[0m\u001b[0m\n",
      "\u001b[0;32m/home/fox/.local/lib/python3.6/site-packages/pyglet/graphics/__init__.py\u001b[0m in \u001b[0;36mdraw\u001b[0;34m(self)\u001b[0m\n\u001b[1;32m    558\u001b[0m \u001b[0;34m\u001b[0m\u001b[0m\n\u001b[1;32m    559\u001b[0m         \u001b[0;32mfor\u001b[0m \u001b[0mfunc\u001b[0m \u001b[0;32min\u001b[0m \u001b[0mself\u001b[0m\u001b[0;34m.\u001b[0m\u001b[0m_draw_list\u001b[0m\u001b[0;34m:\u001b[0m\u001b[0;34m\u001b[0m\u001b[0;34m\u001b[0m\u001b[0m\n\u001b[0;32m--> 560\u001b[0;31m             \u001b[0mfunc\u001b[0m\u001b[0;34m(\u001b[0m\u001b[0;34m)\u001b[0m\u001b[0;34m\u001b[0m\u001b[0;34m\u001b[0m\u001b[0m\n\u001b[0m\u001b[1;32m    561\u001b[0m \u001b[0;34m\u001b[0m\u001b[0m\n\u001b[1;32m    562\u001b[0m     \u001b[0;32mdef\u001b[0m \u001b[0mdraw_subset\u001b[0m\u001b[0;34m(\u001b[0m\u001b[0mself\u001b[0m\u001b[0;34m,\u001b[0m \u001b[0mvertex_lists\u001b[0m\u001b[0;34m)\u001b[0m\u001b[0;34m:\u001b[0m\u001b[0;34m\u001b[0m\u001b[0;34m\u001b[0m\u001b[0m\n",
      "\u001b[0;32m/home/fox/.local/lib/python3.6/site-packages/pyglet/graphics/__init__.py\u001b[0m in \u001b[0;36m<lambda>\u001b[0;34m()\u001b[0m\n\u001b[1;32m    490\u001b[0m                     \u001b[0;32mcontinue\u001b[0m\u001b[0;34m\u001b[0m\u001b[0;34m\u001b[0m\u001b[0m\n\u001b[1;32m    491\u001b[0m                 draw_list.append(\n\u001b[0;32m--> 492\u001b[0;31m                     (lambda d, m: lambda: d.draw(m))(domain, mode))\n\u001b[0m\u001b[1;32m    493\u001b[0m \u001b[0;34m\u001b[0m\u001b[0m\n\u001b[1;32m    494\u001b[0m             \u001b[0;31m# Sort and visit child groups of this group\u001b[0m\u001b[0;34m\u001b[0m\u001b[0;34m\u001b[0m\u001b[0;34m\u001b[0m\u001b[0m\n",
      "\u001b[0;32m/home/fox/.local/lib/python3.6/site-packages/pyglet/graphics/vertexdomain.py\u001b[0m in \u001b[0;36mdraw\u001b[0;34m(self, mode, vertex_list)\u001b[0m\n\u001b[1;32m    325\u001b[0m         \u001b[0;32mfor\u001b[0m \u001b[0mbuffer\u001b[0m\u001b[0;34m,\u001b[0m \u001b[0m_\u001b[0m \u001b[0;32min\u001b[0m \u001b[0mself\u001b[0m\u001b[0;34m.\u001b[0m\u001b[0mbuffer_attributes\u001b[0m\u001b[0;34m:\u001b[0m\u001b[0;34m\u001b[0m\u001b[0;34m\u001b[0m\u001b[0m\n\u001b[1;32m    326\u001b[0m             \u001b[0mbuffer\u001b[0m\u001b[0;34m.\u001b[0m\u001b[0munbind\u001b[0m\u001b[0;34m(\u001b[0m\u001b[0;34m)\u001b[0m\u001b[0;34m\u001b[0m\u001b[0;34m\u001b[0m\u001b[0m\n\u001b[0;32m--> 327\u001b[0;31m         \u001b[0mglPopClientAttrib\u001b[0m\u001b[0;34m(\u001b[0m\u001b[0;34m)\u001b[0m\u001b[0;34m\u001b[0m\u001b[0;34m\u001b[0m\u001b[0m\n\u001b[0m\u001b[1;32m    328\u001b[0m \u001b[0;34m\u001b[0m\u001b[0m\n\u001b[1;32m    329\u001b[0m     \u001b[0;32mdef\u001b[0m \u001b[0m_is_empty\u001b[0m\u001b[0;34m(\u001b[0m\u001b[0mself\u001b[0m\u001b[0;34m)\u001b[0m\u001b[0;34m:\u001b[0m\u001b[0;34m\u001b[0m\u001b[0;34m\u001b[0m\u001b[0m\n",
      "\u001b[0;32m/home/fox/.local/lib/python3.6/site-packages/pyglet/gl/lib.py\u001b[0m in \u001b[0;36merrcheck\u001b[0;34m(result, func, arguments)\u001b[0m\n\u001b[1;32m     95\u001b[0m             \u001b[0mprint\u001b[0m\u001b[0;34m(\u001b[0m\u001b[0mname\u001b[0m\u001b[0;34m)\u001b[0m\u001b[0;34m\u001b[0m\u001b[0;34m\u001b[0m\u001b[0m\n\u001b[1;32m     96\u001b[0m \u001b[0;34m\u001b[0m\u001b[0m\n\u001b[0;32m---> 97\u001b[0;31m     \u001b[0;32mfrom\u001b[0m \u001b[0mpyglet\u001b[0m \u001b[0;32mimport\u001b[0m \u001b[0mgl\u001b[0m\u001b[0;34m\u001b[0m\u001b[0;34m\u001b[0m\u001b[0m\n\u001b[0m\u001b[1;32m     98\u001b[0m     \u001b[0mcontext\u001b[0m \u001b[0;34m=\u001b[0m \u001b[0mgl\u001b[0m\u001b[0;34m.\u001b[0m\u001b[0mcurrent_context\u001b[0m\u001b[0;34m\u001b[0m\u001b[0;34m\u001b[0m\u001b[0m\n\u001b[1;32m     99\u001b[0m     \u001b[0;32mif\u001b[0m \u001b[0;32mnot\u001b[0m \u001b[0mcontext\u001b[0m\u001b[0;34m:\u001b[0m\u001b[0;34m\u001b[0m\u001b[0;34m\u001b[0m\u001b[0m\n",
      "\u001b[0;32m/usr/lib/python3.6/importlib/_bootstrap.py\u001b[0m in \u001b[0;36m_handle_fromlist\u001b[0;34m(module, fromlist, import_, recursive)\u001b[0m\n",
      "\u001b[0;31mKeyboardInterrupt\u001b[0m: "
     ]
    }
   ],
   "source": [
    "#GAME = 'CarRacing-v0' #GAME = 'LunarLander-v2'\n",
    "t = time.time()\n",
    "RECORD = None\n",
    "MAX_STEPS = 1500\n",
    "MAX_GENERATIONS = 1000\n",
    "POPULATION_COUNT = 100\n",
    "MUTATION_RATE = 0.001\n",
    "\n",
    "env = car_racing.CarRacing()\n",
    "#env = gym.make(GAME)\n",
    "env.seed(2)\n",
    "observation = env.reset()\n",
    "in_dimen = conv(observation).reshape(-1).shape[0] #in_dimen = env.observation_space.shape[0]\n",
    "out_dimen = 3 #out_dimen = 4 #out_dimen = env.action_space.n\n",
    "obsMin = np.zeros_like(conv(observation)) #obsMin = env.observation_space.low\n",
    "obsMax = np.ones_like(conv(observation))*256 #obsMax = env.observation_space.high\n",
    "actionMin = 0\n",
    "actionMax = 3 #actionMax = env.action_space.n\n",
    "#pop = Population(POPULATION_COUNT, MUTATION_RATE, [in_dimen, 13, 8, 13, out_dimen])\n",
    "pop = Population(POPULATION_COUNT, MUTATION_RATE, [in_dimen, 100, 50, 100, out_dimen])\n",
    "bestNeuralNets = []\n",
    "avg_fits = []\n",
    "max_fits = []\n",
    "#acts = {0:[0.0, 1.0,0.0], 1:[1.0, 0.3, 0.0], 2:[-1.0, 0.3, 0.0], 3:[0.0, 0.0, 0.8]}\n",
    "\n",
    "print(\"\\nObservation\\n--------------------------------\")\n",
    "print(\"Shape :\", in_dimen, \" | High :\", obsMax, \" | Low :\", obsMin)\n",
    "print(\"\\nAction\\n--------------------------------\")\n",
    "print(\"Shape :\", out_dimen, \" | High :\", actionMax, \" | Low :\", actionMin,\"\\n\")\n",
    "\n",
    "\n",
    "for gen in range(MAX_GENERATIONS):\n",
    "    genAvgFit = 0.0\n",
    "    maxFit = -100000000 #better: if max fit not None: max fit,?? reward populaton[0]??\n",
    "    maxNeuralNet = None\n",
    "    for nn in pop.population:\n",
    "        env.seed(2)\n",
    "        env.reset()\n",
    "        totalReward = 0\n",
    "        for step in range(MAX_STEPS):\n",
    "            #env.render()\n",
    "            action = nn.getOutput(observation)\n",
    "            observation, reward, done, info = env.step(action)\n",
    "            \n",
    "            totalReward += reward\n",
    "            if done:\n",
    "                env.seed(2)\n",
    "                observation = env.reset()\n",
    "                break\n",
    "\n",
    "        nn.fitness = totalReward\n",
    "        genAvgFit += nn.fitness\n",
    "        if nn.fitness > maxFit :\n",
    "            maxFit = nn.fitness\n",
    "            maxNeuralNet = copy.deepcopy(nn);\n",
    "\n",
    "    bestNeuralNets.append(maxNeuralNet)\n",
    "    avg_fits.append(genAvgFit)\n",
    "    max_fits.append(maxFit)\n",
    "    genAvgFit/=pop.popCount\n",
    "    print(\"Generation : %3d |  Avg Fitness : %5.0f  |  Max Fitness : %5.0f  \" % (gen+1, genAvgFit, maxFit) )\n",
    "    pop.createNewGeneration()\n",
    "\n",
    "    if gen%10 == 0:\n",
    "        with open('progress/Car-gen_lastPop_gen_' + str(gen) +'popCount_' + str(POPULATION_COUNT), 'wb') as f:\n",
    "            pickle.dump(pop.population, f) \n",
    "        with open('avg_fits_gen_' + str(gen), 'wb') as f:\n",
    "            pickle.dump(avg_fits, f) \n",
    "        with open('max_fits_gen_' + str(gen), 'wb') as f:\n",
    "            pickle.dump(max_fits, f) \n",
    "#env.monitor.close()\n",
    "#monitor.close()\n",
    "env.close()\n",
    "t = time.time() - t\n",
    "print ('time', t)"
   ]
  },
  {
   "cell_type": "code",
   "execution_count": 9,
   "metadata": {},
   "outputs": [
    {
     "name": "stdout",
     "output_type": "stream",
     "text": [
      "time 33696.0898501873\n"
     ]
    }
   ],
   "source": [
    "t = time.time() - t\n",
    "print ('time', t)"
   ]
  },
  {
   "cell_type": "code",
   "execution_count": 11,
   "metadata": {},
   "outputs": [
    {
     "data": {
      "text/plain": [
       "9.360024958385361"
      ]
     },
     "execution_count": 11,
     "metadata": {},
     "output_type": "execute_result"
    }
   ],
   "source": [
    "t/3600"
   ]
  },
  {
   "cell_type": "markdown",
   "metadata": {},
   "source": [
    "## Replay"
   ]
  },
  {
   "cell_type": "code",
   "execution_count": 18,
   "metadata": {},
   "outputs": [
    {
     "name": "stdout",
     "output_type": "stream",
     "text": [
      "Generation   0 had a best fitness of  824\n",
      "Steps taken = 33\n"
     ]
    }
   ],
   "source": [
    "replayBestBots(bestNeuralNets[-3:-2], max(1, int(math.ceil(MAX_GENERATIONS/10.0))), 0.0)"
   ]
  },
  {
   "cell_type": "code",
   "execution_count": 16,
   "metadata": {},
   "outputs": [
    {
     "data": {
      "text/plain": [
       "[<__main__.NeuralNet at 0x7fcb4e8e9160>]"
      ]
     },
     "execution_count": 16,
     "metadata": {},
     "output_type": "execute_result"
    }
   ],
   "source": [
    "bestNeuralNets[-3:-2]"
   ]
  },
  {
   "cell_type": "code",
   "execution_count": 12,
   "metadata": {},
   "outputs": [],
   "source": [
    "#with open('bestNeuro_50gen_100nn', 'wb') as f:\n",
    "#    pickle.dump(bestNeuralNets, f) "
   ]
  },
  {
   "cell_type": "code",
   "execution_count": 13,
   "metadata": {},
   "outputs": [],
   "source": [
    "#with open('bestNeuro_2May_Car-v2_10g_50nn_100_50_100', 'wb') as f:\n",
    "#    pickle.dump(bestNeuralNets, f) "
   ]
  },
  {
   "cell_type": "code",
   "execution_count": 13,
   "metadata": {},
   "outputs": [],
   "source": [
    "#with open('lastPop_1May_Car-v2_10g_50nn', 'wb') as f:\n",
    "#    pickle.dump(pop.population, f)"
   ]
  },
  {
   "cell_type": "code",
   "execution_count": 14,
   "metadata": {},
   "outputs": [
    {
     "name": "stdout",
     "output_type": "stream",
     "text": [
      "\u001b[0m\u001b[01;34m'Artificial Intelligence'\u001b[0m/       'Car v1.ipynb'\r\n",
      " bestNeuro1May_Car-v1_10g_10nn   'Car v2.ipynb'\r\n",
      " bestNeuro_1May_Car-v2_10g_50nn   lastGen_1May_Car-v1_10g_10nn\r\n",
      " bestNeuro30Apr_Car-v1_5g_10nn    lastPop_1May_Car-v2_10g_50nn\r\n"
     ]
    }
   ],
   "source": [
    "%ls"
   ]
  },
  {
   "cell_type": "code",
   "execution_count": null,
   "metadata": {},
   "outputs": [],
   "source": [
    "with open('bestNeuro30Apr_Car-v1_5g_10nn', 'rb') as f:\n",
    "    new_bn = pickle.load(f)"
   ]
  },
  {
   "cell_type": "markdown",
   "metadata": {},
   "source": [
    "## plots"
   ]
  },
  {
   "cell_type": "code",
   "execution_count": 26,
   "metadata": {},
   "outputs": [
    {
     "data": {
      "text/plain": [
       "[<matplotlib.lines.Line2D at 0x7fcb4bc8e8d0>]"
      ]
     },
     "execution_count": 26,
     "metadata": {},
     "output_type": "execute_result"
    },
    {
     "data": {
      "image/png": "[encoded data removed]",
      "text/plain": [
       "<Figure size 432x288 with 1 Axes>"
      ]
     },
     "metadata": {},
     "output_type": "display_data"
    }
   ],
   "source": [
    "plt.plot(np.array(avg_fits)/100)"
   ]
  },
  {
   "cell_type": "code",
   "execution_count": 25,
   "metadata": {},
   "outputs": [
    {
     "data": {
      "text/plain": [
       "array([-45.15914286, -34.53528571, -23.90185714, -22.31      ,\n",
       "       -18.43128571, -17.39914286, -13.05942857,  -9.51485714,\n",
       "         4.57042857,   0.33028571,  14.10271429,   7.10442857,\n",
       "         7.30571429,  -4.06457143,   1.50457143,   4.19657143,\n",
       "        -3.37028571,  -6.30328571,  -2.66971429,   9.64771429,\n",
       "        16.49228571,  17.99257143,  25.82242857,  52.87414286,\n",
       "        94.79685714, 111.77842857, 113.02971429, 130.65142857,\n",
       "       101.24971429, 149.88242857, 130.10171429, 125.81057143,\n",
       "       150.05142857, 176.67385714, 207.45942857, 167.622     ,\n",
       "       194.23028571, 213.58542857, 230.093     , 299.21014286,\n",
       "       268.98528571, 271.97628571, 258.66542857, 229.33885714,\n",
       "       261.292     , 246.38028571, 250.16028571, 264.42914286,\n",
       "       248.81371429, 240.513     , 246.87428571])"
      ]
     },
     "execution_count": 25,
     "metadata": {},
     "output_type": "execute_result"
    }
   ],
   "source": [
    "np.array(avg_fits)/100"
   ]
  },
  {
   "cell_type": "code",
   "execution_count": 20,
   "metadata": {},
   "outputs": [
    {
     "data": {
      "text/plain": [
       "[<matplotlib.lines.Line2D at 0x7fcb4e742940>]"
      ]
     },
     "execution_count": 20,
     "metadata": {},
     "output_type": "execute_result"
    },
    {
     "data": {
      "image/png": "[encoded data removed]",
      "text/plain": [
       "<Figure size 432x288 with 1 Axes>"
      ]
     },
     "metadata": {},
     "output_type": "display_data"
    }
   ],
   "source": [
    "plt.plot(max_fits)"
   ]
  },
  {
   "cell_type": "code",
   "execution_count": null,
   "metadata": {},
   "outputs": [],
   "source": []
  }
 ],
 "metadata": {
  "kernelspec": {
   "display_name": "Python 3",
   "language": "python",
   "name": "python3"
  },
  "language_info": {
   "codemirror_mode": {
    "name": "ipython",
    "version": 3
   },
   "file_extension": ".py",
   "mimetype": "text/x-python",
   "name": "python",
   "nbconvert_exporter": "python",
   "pygments_lexer": "ipython3",
   "version": "3.6.7"
  }
 },
 "nbformat": 4,
 "nbformat_minor": 2
}
